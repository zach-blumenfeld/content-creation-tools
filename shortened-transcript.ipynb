{
 "cells": [
  {
   "cell_type": "markdown",
   "source": [
    "# Shorten Transcript\n",
    "Given a transcript, recommend a shortened version to fit a smaller time window."
   ],
   "metadata": {
    "collapsed": false
   }
  },
  {
   "cell_type": "code",
   "execution_count": null,
   "outputs": [],
   "source": [
    "SOURCE_MATERIAL_TXT_FILE = 'long-kg-builder-transcript.txt'\n",
    "OUTPUT_FILE = 'short-transcripts.txt'\n",
    "NUM_VERSIONS = 4\n",
    "DESIRED_LENGTH = \"90 second\"\n",
    "TASK_PROMPT = f\"\"\"\n",
    "You are an expert Marketer and technical writer for Neo4j, the Graph Database and Analytics company.\n",
    "YOu are tasked with shortening up the below source transcript to be used in a {DESIRED_LENGTH} video clip.\n",
    "\n",
    "# Source Transcript:\n",
    "{{taskMaterials}}\n",
    "\n",
    "# Shortened Transcript:\n",
    "\"\"\"\n",
    "LLM = 'gpt-4'"
   ],
   "metadata": {
    "collapsed": false
   }
  },
  {
   "cell_type": "code",
   "execution_count": null,
   "outputs": [],
   "source": [
    "from dotenv import load_dotenv\n",
    "\n",
    "load_dotenv('.env', override=True)"
   ],
   "metadata": {
    "collapsed": false
   }
  },
  {
   "cell_type": "code",
   "execution_count": null,
   "outputs": [],
   "source": [
    "from langchain_core.prompts import PromptTemplate\n",
    "\n",
    "prompt = PromptTemplate.from_template(TASK_PROMPT)"
   ],
   "metadata": {
    "collapsed": false
   }
  },
  {
   "cell_type": "code",
   "execution_count": null,
   "outputs": [],
   "source": [
    "from langchain_core.output_parsers import StrOutputParser\n",
    "from langchain_openai import ChatOpenAI\n",
    "\n",
    "#Instantiate LLM\n",
    "llm = ChatOpenAI(temperature=0.7, model_name=LLM, streaming=True)\n",
    "chain = prompt | llm | StrOutputParser()"
   ],
   "metadata": {
    "collapsed": false
   }
  },
  {
   "cell_type": "code",
   "execution_count": null,
   "outputs": [],
   "source": [
    "with open(SOURCE_MATERIAL_TXT_FILE, \"r\") as f:\n",
    "    txt = f.read()"
   ],
   "metadata": {
    "collapsed": false
   }
  },
  {
   "cell_type": "code",
   "execution_count": null,
   "outputs": [],
   "source": [
    "from tqdm import tqdm\n",
    "\n",
    "with open(OUTPUT_FILE, \"a\") as out_txt_file:\n",
    "    for i in tqdm(range(NUM_VERSIONS)):\n",
    "        out_txt_file.write(f'#Response {i}\\n')\n",
    "        out_txt_file.write(chain.invoke(txt))\n",
    "        out_txt_file.write('\\n\\n')"
   ],
   "metadata": {
    "collapsed": false
   }
  },
  {
   "cell_type": "code",
   "execution_count": null,
   "outputs": [],
   "source": [],
   "metadata": {
    "collapsed": false
   }
  }
 ],
 "metadata": {
  "kernelspec": {
   "display_name": "Python 3",
   "language": "python",
   "name": "python3"
  },
  "language_info": {
   "codemirror_mode": {
    "name": "ipython",
    "version": 2
   },
   "file_extension": ".py",
   "mimetype": "text/x-python",
   "name": "python",
   "nbconvert_exporter": "python",
   "pygments_lexer": "ipython2",
   "version": "2.7.6"
  }
 },
 "nbformat": 4,
 "nbformat_minor": 0
}
