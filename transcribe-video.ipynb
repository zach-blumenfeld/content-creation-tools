{
 "cells": [
  {
   "cell_type": "markdown",
   "source": [
    "# Transcribe Video\n",
    "Transcribe the audio from an mp4 into a text document using openAI wisper"
   ],
   "metadata": {
    "collapsed": false
   }
  },
  {
   "cell_type": "code",
   "execution_count": 10,
   "outputs": [],
   "source": [
    "INPUT_MP4 = 'Zach-GenAI-Demo-V5.mp4'\n",
    "OUTPUT_TRANSCRIPT = 'transcript.txt'"
   ],
   "metadata": {
    "collapsed": false
   }
  },
  {
   "cell_type": "markdown",
   "source": [
    "## Turn mp4 into wav file"
   ],
   "metadata": {
    "collapsed": false
   }
  },
  {
   "cell_type": "code",
   "execution_count": 11,
   "outputs": [
    {
     "name": "stderr",
     "output_type": "stream",
     "text": [
      "ffmpeg version 5.1.2 Copyright (c) 2000-2022 the FFmpeg developers\n",
      "  built with Apple clang version 14.0.0 (clang-1400.0.29.202)\n",
      "  configuration: --prefix=/opt/homebrew/Cellar/ffmpeg/5.1.2_5 --enable-shared --enable-pthreads --enable-version3 --cc=clang --host-cflags= --host-ldflags= --enable-ffplay --enable-gnutls --enable-gpl --enable-libaom --enable-libaribb24 --enable-libbluray --enable-libdav1d --enable-libmp3lame --enable-libopus --enable-librav1e --enable-librist --enable-librubberband --enable-libsnappy --enable-libsrt --enable-libsvtav1 --enable-libtesseract --enable-libtheora --enable-libvidstab --enable-libvmaf --enable-libvorbis --enable-libvpx --enable-libwebp --enable-libx264 --enable-libx265 --enable-libxml2 --enable-libxvid --enable-lzma --enable-libfontconfig --enable-libfreetype --enable-frei0r --enable-libass --enable-libopencore-amrnb --enable-libopencore-amrwb --enable-libopenjpeg --enable-libspeex --enable-libsoxr --enable-libzmq --enable-libzimg --disable-libjack --disable-indev=jack --enable-videotoolbox --enable-neon\n",
      "  libavutil      57. 28.100 / 57. 28.100\n",
      "  libavcodec     59. 37.100 / 59. 37.100\n",
      "  libavformat    59. 27.100 / 59. 27.100\n",
      "  libavdevice    59.  7.100 / 59.  7.100\n",
      "  libavfilter     8. 44.100 /  8. 44.100\n",
      "  libswscale      6.  7.100 /  6.  7.100\n",
      "  libswresample   4.  7.100 /  4.  7.100\n",
      "  libpostproc    56.  6.100 / 56.  6.100\n",
      "Input #0, mov,mp4,m4a,3gp,3g2,mj2, from 'Zach-GenAI-Demo-V5.mp4':\n",
      "  Metadata:\n",
      "    major_brand     : mp42\n",
      "    minor_version   : 0\n",
      "    compatible_brands: mp42mp41\n",
      "    creation_time   : 2024-03-13T17:44:38.000000Z\n",
      "  Duration: 00:07:52.51, start: 0.000000, bitrate: 2976 kb/s\n",
      "  Stream #0:0[0x1](eng): Video: h264 (High) (avc1 / 0x31637661), yuv420p(tv, bt709, progressive), 1920x1080, 2648 kb/s, 29.97 fps, 29.97 tbr, 30k tbn (default)\n",
      "    Metadata:\n",
      "      creation_time   : 2024-03-13T17:44:38.000000Z\n",
      "      handler_name    : ?Mainconcept Video Media Handler\n",
      "      vendor_id       : [0][0][0][0]\n",
      "      encoder         : AVC Coding\n",
      "  Stream #0:1[0x2](eng): Audio: aac (LC) (mp4a / 0x6134706D), 48000 Hz, stereo, fltp, 317 kb/s (default)\n",
      "    Metadata:\n",
      "      creation_time   : 2024-03-13T17:44:39.000000Z\n",
      "      handler_name    : #Mainconcept MP4 Sound Media Handler\n",
      "      vendor_id       : [0][0][0][0]\n",
      "Stream mapping:\n",
      "  Stream #0:1 -> #0:0 (aac (native) -> pcm_s16le (native))\n",
      "Press [q] to stop, [?] for help\n",
      "Output #0, wav, to 'audio.wav':\n",
      "  Metadata:\n",
      "    major_brand     : mp42\n",
      "    minor_version   : 0\n",
      "    compatible_brands: mp42mp41\n",
      "    ISFT            : Lavf59.27.100\n",
      "  Stream #0:0(eng): Audio: pcm_s16le ([1][0][0][0] / 0x0001), 48000 Hz, stereo, s16, 1536 kb/s (default)\n",
      "    Metadata:\n",
      "      creation_time   : 2024-03-13T17:44:39.000000Z\n",
      "      handler_name    : #Mainconcept MP4 Sound Media Handler\n",
      "      vendor_id       : [0][0][0][0]\n",
      "      encoder         : Lavc59.37.100 pcm_s16le\n",
      "size=   88592kB time=00:07:52.49 bitrate=1536.0kbits/s speed=1.13e+03x    \n",
      "video:0kB audio:88592kB subtitle:0kB other streams:0kB global headers:0kB muxing overhead: 0.000086%\n"
     ]
    },
    {
     "data": {
      "text/plain": "0"
     },
     "execution_count": 11,
     "metadata": {},
     "output_type": "execute_result"
    }
   ],
   "source": [
    "audio_file_path = 'audio.wav'\n",
    "import subprocess\n",
    "command = f\" ffmpeg -i {INPUT_MP4} {audio_file_path}\"\n",
    "subprocess.call(command, shell=True)"
   ],
   "metadata": {
    "collapsed": false
   }
  },
  {
   "cell_type": "markdown",
   "source": [
    "## Split wav file into chunks to send to API"
   ],
   "metadata": {
    "collapsed": false
   }
  },
  {
   "cell_type": "code",
   "execution_count": 12,
   "outputs": [],
   "source": [
    "import os\n",
    "from concurrent.futures import ThreadPoolExecutor\n",
    "from pydub import AudioSegment\n",
    "from pydub.silence import split_on_silence\n",
    "from tqdm import tqdm\n",
    "\n",
    "audio_chunks_dir = 'audio-chunks'\n",
    "#source: https://github.com/temavasilev/audio-splitter/blob/main/audio_splitter/main.py\n",
    "def save_chunk(chunk, start_time, output_dir, output_format):\n",
    "    chunk.export(join(output_dir, f'chunk_{str(start_time).zfill(4)}.{output_format}'), format=output_format)\n",
    "\n",
    "def merge_short_chunks(chunks, min_chunk_length_ms):\n",
    "    merged_chunks = []\n",
    "    current_chunk = chunks[0]\n",
    "\n",
    "    for chunk in chunks[1:]:\n",
    "        if len(current_chunk) + len(chunk) < min_chunk_length_ms:\n",
    "            current_chunk += chunk\n",
    "        else:\n",
    "            merged_chunks.append(current_chunk)\n",
    "            current_chunk = chunk\n",
    "\n",
    "    merged_chunks.append(current_chunk)\n",
    "    return merged_chunks\n",
    "\n",
    "def split_audio(input_file=audio_file_path, output_dir=audio_chunks_dir, chunk_length_ms=60_000, output_format='wav', silence_based=True, replace_output_dr=False):\n",
    "    # Load the input audio file using Pydub\n",
    "    audio = AudioSegment.from_file(input_file)\n",
    "\n",
    "    # Create the output directory if it doesn't exist\n",
    "    if not os.path.exists(output_dir):\n",
    "        os.makedirs(output_dir)\n",
    "    elif replace_output_dr:\n",
    "       for file in [join(output_dir, f) for f in listdir(output_dir) ]:\n",
    "           os.remove(file)\n",
    "\n",
    "    if silence_based:\n",
    "        # Split the audio file based on silence\n",
    "        min_silence_len = 100  # Minimum length of silence in milliseconds\n",
    "        silence_thresh = -40   # Silence threshold in dB\n",
    "        chunks = split_on_silence(audio, min_silence_len=min_silence_len, silence_thresh=silence_thresh)\n",
    "\n",
    "        # Merge adjacent chunks shorter than the specified length\n",
    "        chunks = merge_short_chunks(chunks, chunk_length_ms)\n",
    "\n",
    "        # Set up progress bar with tqdm\n",
    "        pbar = tqdm(total=len(chunks), desc=\"Processing chunks based on silence\")\n",
    "\n",
    "        # Save chunks in parallel using ThreadPoolExecutor\n",
    "        with ThreadPoolExecutor() as executor:\n",
    "            for i, chunk in enumerate(chunks):\n",
    "                executor.submit(save_chunk, chunk, i, output_dir, output_format).add_done_callback(lambda x: pbar.update(1))\n",
    "\n",
    "    else:\n",
    "        # Calculate the total length of the audio in milliseconds and the number of full chunks\n",
    "        audio_length_ms = len(audio)\n",
    "        num_chunks = audio_length_ms // chunk_length_ms\n",
    "\n",
    "        # Set up progress bar with tqdm\n",
    "        pbar = tqdm(total=num_chunks + (audio_length_ms % chunk_length_ms != 0), desc=\"Processing fixed-size chunks\")\n",
    "\n",
    "        # Split and save chunks in parallel using ThreadPoolExecutor\n",
    "        with ThreadPoolExecutor() as executor:\n",
    "            for i in range(num_chunks):\n",
    "                start_time = i * chunk_length_ms\n",
    "                end_time = (i + 1) * chunk_length_ms\n",
    "                chunk = audio[start_time:end_time]\n",
    "                executor.submit(save_chunk, chunk, start_time, output_dir, output_format).add_done_callback(lambda x: pbar.update(1))\n",
    "\n",
    "            # Handle the last chunk if there is any remainder\n",
    "            if audio_length_ms % chunk_length_ms != 0:\n",
    "                start_time = num_chunks * chunk_length_ms\n",
    "                end_time = audio_length_ms\n",
    "                chunk = audio[start_time:end_time]\n",
    "                executor.submit(save_chunk, chunk, start_time, output_dir, output_format).add_done_callback(lambda x: pbar.update(1))\n",
    "\n",
    "    # Close progress bar\n",
    "    pbar.close()\n"
   ],
   "metadata": {
    "collapsed": false
   }
  },
  {
   "cell_type": "code",
   "execution_count": 13,
   "outputs": [
    {
     "name": "stderr",
     "output_type": "stream",
     "text": [
      "Processing chunks based on silence: 100%|██████████| 8/8 [00:00<00:00, 213.07it/s]\n"
     ]
    }
   ],
   "source": [
    "from time import sleep\n",
    "\n",
    "sleep(1)\n",
    "split_audio(replace_output_dr=True)"
   ],
   "metadata": {
    "collapsed": false
   }
  },
  {
   "cell_type": "markdown",
   "source": [
    "## Loop over wav file chunks send to Wisper and Transcribe"
   ],
   "metadata": {
    "collapsed": false
   }
  },
  {
   "cell_type": "code",
   "execution_count": 14,
   "outputs": [],
   "source": [
    "from openai import OpenAI\n",
    "from dotenv import load_dotenv\n",
    "\n",
    "load_dotenv('.env', override=True)\n",
    "client = OpenAI()"
   ],
   "metadata": {
    "collapsed": false
   }
  },
  {
   "cell_type": "code",
   "execution_count": 15,
   "outputs": [
    {
     "data": {
      "text/plain": "['audio-chunks/chunk_0000.wav',\n 'audio-chunks/chunk_0001.wav',\n 'audio-chunks/chunk_0002.wav',\n 'audio-chunks/chunk_0003.wav',\n 'audio-chunks/chunk_0004.wav',\n 'audio-chunks/chunk_0005.wav',\n 'audio-chunks/chunk_0006.wav',\n 'audio-chunks/chunk_0007.wav']"
     },
     "execution_count": 15,
     "metadata": {},
     "output_type": "execute_result"
    }
   ],
   "source": [
    "from os import listdir\n",
    "from os.path import join\n",
    "\n",
    "audio_file_paths = [join(audio_chunks_dir, f) for f in listdir(audio_chunks_dir) ]\n",
    "audio_file_paths.sort()\n",
    "audio_file_paths"
   ],
   "metadata": {
    "collapsed": false
   }
  },
  {
   "cell_type": "code",
   "execution_count": 16,
   "outputs": [
    {
     "name": "stderr",
     "output_type": "stream",
     "text": [
      "100%|██████████| 8/8 [00:34<00:00,  4.36s/it]\n"
     ]
    }
   ],
   "source": [
    "if os.path.exists(OUTPUT_TRANSCRIPT):\n",
    "    os.remove(OUTPUT_TRANSCRIPT)\n",
    "\n",
    "with open(OUTPUT_TRANSCRIPT, \"a\") as out_txt_file:\n",
    "    for audio_file_chunk in tqdm(audio_file_paths):\n",
    "        with open(audio_file_chunk, \"rb\") as input_audio_file:\n",
    "            transcription = client.audio.transcriptions.create(\n",
    "                model=\"whisper-1\",\n",
    "                file=input_audio_file\n",
    "            )\n",
    "            out_txt_file.write(transcription.text)"
   ],
   "metadata": {
    "collapsed": false
   }
  },
  {
   "cell_type": "markdown",
   "source": [
    "## Clean Up"
   ],
   "metadata": {
    "collapsed": false
   }
  },
  {
   "cell_type": "code",
   "execution_count": 17,
   "outputs": [],
   "source": [
    "import shutil\n",
    "\n",
    "os.remove(audio_file_path)\n",
    "shutil.rmtree(audio_chunks_dir)"
   ],
   "metadata": {
    "collapsed": false
   }
  }
 ],
 "metadata": {
  "kernelspec": {
   "display_name": "Python 3",
   "language": "python",
   "name": "python3"
  },
  "language_info": {
   "codemirror_mode": {
    "name": "ipython",
    "version": 2
   },
   "file_extension": ".py",
   "mimetype": "text/x-python",
   "name": "python",
   "nbconvert_exporter": "python",
   "pygments_lexer": "ipython2",
   "version": "2.7.6"
  }
 },
 "nbformat": 4,
 "nbformat_minor": 0
}
